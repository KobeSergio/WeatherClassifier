{
 "cells": [
  {
   "cell_type": "code",
   "execution_count": 1,
   "id": "3ade76db",
   "metadata": {},
   "outputs": [],
   "source": [
    "#Web scraping imports \n",
    "from bs4 import BeautifulSoup\n",
    "import requests\n",
    "import pandas as pd\n",
    "import html2text #For extracting texts  \n",
    "\n",
    "#Data vis and modelling\n",
    "from sklearn.linear_model import LinearRegression\n",
    "from sklearn.preprocessing import StandardScaler\n",
    "from sklearn.model_selection import train_test_split  \n",
    "from sklearn.feature_selection import SelectKBest\n",
    "from sklearn.feature_selection import f_regression\n",
    "from sklearn.datasets import make_regression \n",
    "import matplotlib.pyplot as plt\n",
    "import seaborn as sns \n",
    "import pandas as pd\n",
    "import numpy as np"
   ]
  },
  {
   "cell_type": "code",
   "execution_count": null,
   "id": "6daada49",
   "metadata": {},
   "outputs": [],
   "source": [
    "#sample url\n",
    "url = \"https://weather.com/weather/tenday/l/9649a410203fa0d4c1082bc29eb8ab42e886f153fc186ac35b3e440253c85fea\"\n",
    "#request the page\n",
    "page = requests.get(url)\n",
    "#creating a soup object and the parser\n",
    "soup = BeautifulSoup(page.content, 'lxml') \n",
    "\n",
    "#h3 DailyContent--daypartName--1bzYn Date\n",
    "\n",
    "#span DailyContent--temp--3d4dn Temperature \n",
    "#Output: 90°\n",
    "\n",
    "#span DailyContent--value--37sk2 Rain chance, Wind \n",
    "#Output: 20% / W 9 mph\n",
    "\n",
    "#span DetailsTable--value--1q_qD Humidity, UV Index, Sunrise and set.\n",
    "#Output: 73% / 5 of 10 / 5:38 am / 6:26 pm\n",
    "\n",
    "\n",
    "#Locate parent_div where you can see all the data\n",
    "parent_section = soup.find('body')\n",
    " \n",
    "\n",
    "#Used dictionary for easy parsing\n",
    "#Key = Date; Values = {temparature, rain_chance, wind, humidity, uv, sunrise, sunset}\n",
    "row = {}\n",
    "\n",
    "#Loop through days \n",
    "ctr = 0\n",
    "for div in parent_section('div', class_= 'DaypartDetails--Content--hJ52O DaypartDetails--contentGrid--1SWty'):  \n",
    "     for child_div in div('div', class_='DailyContent--DailyContent--KcPxD'):    \n",
    "        #Date \n",
    "        date = child_div.find('h3')\n",
    "        date = html2text.html2text(str(date)) #Output: ### Wed 27 | Day  \n",
    "        date = date[3:].strip()  \n",
    "        row[date] = {'temperature':'','rain_chance':'','wind':'','humidity':'','uv':'','sunrise':'','sunset':''} \n",
    "    \n",
    "        #Temperature\n",
    "        temp_data = child_div.find('span', class_='DailyContent--temp--3d4dn')\n",
    "        temperature =  html2text.html2text((str(temp_data))) #Output: 90°\n",
    "        temperature = temperature.strip()[:-1]\n",
    "        row[date]['temperature'] = temperature \n",
    "            \n",
    "        #Rain chance and wind\n",
    "        for temp_data in child_div('span', class_='DailyContent--value--37sk2'):\n",
    "            rc_wind =  html2text.html2text((str(temp_data))) #Output: 20% / W 9 mph\n",
    "            rc_wind = rc_wind.strip() \n",
    "            #If 0 = rc, 1 = wind\n",
    "            if ctr == 0:\n",
    "                row[date]['rain_chance'] = rc_wind\n",
    "                ctr = 1\n",
    "            elif ctr == 1:\n",
    "                row[date]['wind'] = rc_wind\n",
    "                ctr = 0   \n",
    "        \n",
    "        #Description\n",
    "        temp_data = child_div.find('p', class_='DailyContent--narrative--hplRl')\n",
    "        narrative =  html2text.html2text((str(temp_data)))\n",
    "        narrative = narrative.strip()\n",
    "        row[date]['narrative'] = narrative \n",
    "        \n",
    "        #Humidity, UV Index, Sunrise and set.\n",
    "        temp_div = child_div.find_next_sibling('div')\n",
    "        for temp_data in temp_div('span', class_='DetailsTable--value--1q_qD'):\n",
    "            hum_uv_rise_set =  html2text.html2text((str(temp_data))) #Output: 73% / 5 of 10 / 5:38 am / 6:26 pm\n",
    "            hum_uv_rise_set = hum_uv_rise_set.strip() \n",
    "            #If 0 = rc, 1 = wind\n",
    "            if ctr == 0:\n",
    "                row[date]['humidity'] = hum_uv_rise_set\n",
    "                ctr = 1\n",
    "            elif ctr == 1:\n",
    "                row[date]['uv'] = hum_uv_rise_set\n",
    "                ctr = 2\n",
    "            elif ctr == 2:\n",
    "                row[date]['sunrise'] = hum_uv_rise_set\n",
    "                ctr = 3\n",
    "            elif ctr == 3:\n",
    "                row[date]['sunset'] = hum_uv_rise_set\n",
    "                ctr = 0\n",
    "        row[date]['moon'] = html2text.html2text(str(temp_div.find('span', class_='DetailsTable--moonPhrase--2WlTc'))).strip()"
   ]
  },
  {
   "cell_type": "code",
   "execution_count": null,
   "id": "ebfdf914",
   "metadata": {},
   "outputs": [],
   "source": [
    "#Append dict to df\n",
    "df = pd.DataFrame.from_dict(row,orient='index') \n",
    "\n",
    "#Dataframe fixes\n",
    "df = df.reset_index() \n",
    "df = df.rename(columns={'index':'date'})\n",
    "\n",
    "df\n",
    "\n",
    "df.to_csv('10dayforecast_manila.csv', index = None)"
   ]
  },
  {
   "cell_type": "markdown",
   "id": "65354af1",
   "metadata": {},
   "source": [
    "Data Cleansing"
   ]
  },
  {
   "cell_type": "code",
   "execution_count": null,
   "id": "da289a76",
   "metadata": {},
   "outputs": [],
   "source": [
    "missing_values = [\"\\--\", \"None\"]\n",
    "df = pd.read_csv(\"10dayforecast_manila.csv\", na_values = missing_values)\n",
    "df.head(8)\n"
   ]
  },
  {
   "cell_type": "code",
   "execution_count": null,
   "id": "89f5d5f4",
   "metadata": {},
   "outputs": [],
   "source": [
    "#Day Date not parsable, use datetime now and increment by 12 hours (Day/night) instead.\n",
    "\n",
    "from datetime import datetime, timedelta\n",
    " \n",
    "now = datetime.now()\n",
    "\n",
    "if now < now.replace(hour=18, minute=0, second=0, microsecond = 0):\n",
    "    now = now.replace(hour=18, minute=0, second=0, microsecond = 0)\n",
    "else:\n",
    "    now = now.replace(hour=6, minute=0, second=0, microsecond = 0)\n",
    "\n",
    "for i, row in df.iterrows(): \n",
    "    df.at[i,'date'] = now.strftime(\"%d/%m/%Y %H:00:00\")\n",
    "    now = now + timedelta(hours=12)  "
   ]
  },
  {
   "cell_type": "code",
   "execution_count": null,
   "id": "a32718a3",
   "metadata": {},
   "outputs": [],
   "source": [
    "dfrename = df.rename(columns={\"rain_chance\":\"precipitation\"}, inplace=True)\n",
    "df['precipitation'] = df['precipitation'].str.rstrip('%').astype('int')"
   ]
  },
  {
   "cell_type": "code",
   "execution_count": null,
   "id": "694fe982",
   "metadata": {},
   "outputs": [],
   "source": [
    "df['wind'] = df['wind'].map(lambda x: x.lstrip('+-').rstrip('mph'))\n",
    "df[['wind_direction', 'wind']] = df['wind'].str.split(' ', 1, expand=True)\n",
    "sixth_column = df.pop('wind_direction')\n",
    "df.insert(5, 'wind_direction', sixth_column) \n",
    "df['humidity'] = df['humidity'].str.rstrip('%').astype('int')\n",
    "df['uv'] = df['uv'].str.split(' ').str[0]\n",
    "for i, row in df.iterrows():\n",
    "  if len(row['uv']) > 3:\n",
    "    df.at[i,'uv'] = str(10)\n",
    "df['sunset']\n",
    "df['sunset'].isnull()\n",
    "df[\"sunset\"].fillna(\"N/A\", inplace = True)\n",
    "df['moon']\n",
    "df['moon'].isnull()\n",
    "df[\"moon\"].fillna(\"N/A\", inplace = True)"
   ]
  },
  {
   "cell_type": "code",
   "execution_count": null,
   "id": "fd50ca52",
   "metadata": {},
   "outputs": [],
   "source": [
    "df.to_csv('10dayforecast_manila_cleansed.csv', index = None)\n",
    "df"
   ]
  },
  {
   "cell_type": "code",
   "execution_count": 2,
   "id": "f705f6d4",
   "metadata": {
    "scrolled": true
   },
   "outputs": [
    {
     "data": {
      "text/html": [
       "<div>\n",
       "<style scoped>\n",
       "    .dataframe tbody tr th:only-of-type {\n",
       "        vertical-align: middle;\n",
       "    }\n",
       "\n",
       "    .dataframe tbody tr th {\n",
       "        vertical-align: top;\n",
       "    }\n",
       "\n",
       "    .dataframe thead th {\n",
       "        text-align: right;\n",
       "    }\n",
       "</style>\n",
       "<table border=\"1\" class=\"dataframe\">\n",
       "  <thead>\n",
       "    <tr style=\"text-align: right;\">\n",
       "      <th></th>\n",
       "      <th>date</th>\n",
       "      <th>temperature</th>\n",
       "      <th>precipitation</th>\n",
       "      <th>wind</th>\n",
       "      <th>humidity</th>\n",
       "      <th>wind_direction</th>\n",
       "      <th>uv</th>\n",
       "      <th>sunrise</th>\n",
       "      <th>sunset</th>\n",
       "      <th>narrative</th>\n",
       "      <th>moon</th>\n",
       "    </tr>\n",
       "  </thead>\n",
       "  <tbody>\n",
       "    <tr>\n",
       "      <th>8</th>\n",
       "      <td>01/08/2022 18:00:00</td>\n",
       "      <td>79</td>\n",
       "      <td>78</td>\n",
       "      <td>7</td>\n",
       "      <td>88</td>\n",
       "      <td>SW</td>\n",
       "      <td>0</td>\n",
       "      <td>8:21 am</td>\n",
       "      <td>8:59 pm</td>\n",
       "      <td>Thunderstorms likely in the evening. Then a ch...</td>\n",
       "      <td>Waxing Crescent</td>\n",
       "    </tr>\n",
       "    <tr>\n",
       "      <th>15</th>\n",
       "      <td>05/08/2022 06:00:00</td>\n",
       "      <td>87</td>\n",
       "      <td>60</td>\n",
       "      <td>7</td>\n",
       "      <td>79</td>\n",
       "      <td>WSW</td>\n",
       "      <td>9</td>\n",
       "      <td>5:40 am</td>\n",
       "      <td>6:23 pm</td>\n",
       "      <td>Thunderstorms. High 87F. Winds WSW at 5 to 10 ...</td>\n",
       "      <td>NaN</td>\n",
       "    </tr>\n",
       "    <tr>\n",
       "      <th>17</th>\n",
       "      <td>06/08/2022 06:00:00</td>\n",
       "      <td>88</td>\n",
       "      <td>60</td>\n",
       "      <td>9</td>\n",
       "      <td>78</td>\n",
       "      <td>SSW</td>\n",
       "      <td>6</td>\n",
       "      <td>5:40 am</td>\n",
       "      <td>6:23 pm</td>\n",
       "      <td>Thunderstorms. High 88F. Winds SSW at 5 to 10 ...</td>\n",
       "      <td>NaN</td>\n",
       "    </tr>\n",
       "    <tr>\n",
       "      <th>7</th>\n",
       "      <td>01/08/2022 06:00:00</td>\n",
       "      <td>87</td>\n",
       "      <td>96</td>\n",
       "      <td>12</td>\n",
       "      <td>79</td>\n",
       "      <td>WSW</td>\n",
       "      <td>6</td>\n",
       "      <td>5:39 am</td>\n",
       "      <td>6:25 pm</td>\n",
       "      <td>Thunderstorms. High 87F. Winds WSW at 10 to 15...</td>\n",
       "      <td>NaN</td>\n",
       "    </tr>\n",
       "    <tr>\n",
       "      <th>24</th>\n",
       "      <td>09/08/2022 18:00:00</td>\n",
       "      <td>79</td>\n",
       "      <td>60</td>\n",
       "      <td>7</td>\n",
       "      <td>87</td>\n",
       "      <td>SSW</td>\n",
       "      <td>0</td>\n",
       "      <td>3:52 pm</td>\n",
       "      <td>2:15 am</td>\n",
       "      <td>Thunderstorms. Low 79F. Winds SSW at 5 to 10 m...</td>\n",
       "      <td>Waxing Gibbous</td>\n",
       "    </tr>\n",
       "  </tbody>\n",
       "</table>\n",
       "</div>"
      ],
      "text/plain": [
       "                   date  temperature  precipitation  wind  humidity  \\\n",
       "8   01/08/2022 18:00:00           79             78     7        88   \n",
       "15  05/08/2022 06:00:00           87             60     7        79   \n",
       "17  06/08/2022 06:00:00           88             60     9        78   \n",
       "7   01/08/2022 06:00:00           87             96    12        79   \n",
       "24  09/08/2022 18:00:00           79             60     7        87   \n",
       "\n",
       "   wind_direction  uv  sunrise   sunset  \\\n",
       "8              SW   0  8:21 am  8:59 pm   \n",
       "15            WSW   9  5:40 am  6:23 pm   \n",
       "17            SSW   6  5:40 am  6:23 pm   \n",
       "7             WSW   6  5:39 am  6:25 pm   \n",
       "24            SSW   0  3:52 pm  2:15 am   \n",
       "\n",
       "                                            narrative             moon  \n",
       "8   Thunderstorms likely in the evening. Then a ch...  Waxing Crescent  \n",
       "15  Thunderstorms. High 87F. Winds WSW at 5 to 10 ...              NaN  \n",
       "17  Thunderstorms. High 88F. Winds SSW at 5 to 10 ...              NaN  \n",
       "7   Thunderstorms. High 87F. Winds WSW at 10 to 15...              NaN  \n",
       "24  Thunderstorms. Low 79F. Winds SSW at 5 to 10 m...   Waxing Gibbous  "
      ]
     },
     "execution_count": 2,
     "metadata": {},
     "output_type": "execute_result"
    }
   ],
   "source": [
    "#Load csv\n",
    "df = pd.read_csv('10dayforecast_manila_cleansed.csv')\n",
    "df = df.sample(frac=1) #Randomized index because precipitation plateau at day 6\n",
    "df.head()"
   ]
  },
  {
   "cell_type": "code",
   "execution_count": 3,
   "id": "216babef",
   "metadata": {},
   "outputs": [],
   "source": [
    "# feature selection\n",
    "def select_features(X_train, y_train, X_test):\n",
    "    # configure to select all features\n",
    "    fs = SelectKBest(score_func=f_regression, k='all')\n",
    "    # learn relationship from training data\n",
    "    fs.fit(X_train, y_train)\n",
    "    # transform train input data\n",
    "    X_train_fs = fs.transform(X_train)\n",
    "    # transform test input data\n",
    "    X_test_fs = fs.transform(X_test)\n",
    "    return X_train_fs, X_test_fs, fs"
   ]
  },
  {
   "cell_type": "code",
   "execution_count": 4,
   "id": "c6e12079",
   "metadata": {},
   "outputs": [],
   "source": [
    "x = np.array(df[['temperature','precipitation','wind','uv']]) #Columns with real numbers\n",
    "y = np.array(df['humidity']) #Data to be used\n",
    "\n",
    "x = StandardScaler().fit_transform(x)  #Standardization\n",
    "x_train, x_test, y_train, y_test = train_test_split(x, y, test_size=0.30, random_state=1) #Split data into train and test\n",
    "x_train_fs, x_test_fs, fs = select_features(x_train, y_train, x_test)"
   ]
  },
  {
   "cell_type": "code",
   "execution_count": 5,
   "id": "49a1b17b",
   "metadata": {
    "scrolled": true
   },
   "outputs": [
    {
     "name": "stdout",
     "output_type": "stream",
     "text": [
      "Feature 0: 1232.051711\n",
      "Feature 1: 0.037784\n",
      "Feature 2: 8.452030\n",
      "Feature 3: 134.466330\n"
     ]
    },
    {
     "data": {
      "image/png": "[encoded data removed]",
      "text/plain": [
       "<Figure size 432x288 with 1 Axes>"
      ]
     },
     "metadata": {
      "needs_background": "light"
     },
     "output_type": "display_data"
    }
   ],
   "source": [
    "# Scores for the features\n",
    "for i in range(len(fs.scores_)):\n",
    "    print('Feature %d: %f' % (i, fs.scores_[i]))\n",
    "# plot the scores\n",
    "plt.bar([i for i in range(len(fs.scores_))], fs.scores_)\n",
    "plt.show()"
   ]
  },
  {
   "cell_type": "code",
   "execution_count": 6,
   "id": "6d3a4c2c",
   "metadata": {},
   "outputs": [],
   "source": [
    "x = np.array(df[['temperature','wind','uv']]) #Feature selection\n",
    "y = np.array(df['humidity'])  \n",
    "x_train, x_test, y_train, y_test = train_test_split(x, y, test_size=0.30, random_state=1) #Split data into train and test\n",
    "x_train_fs, x_test_fs, fs = select_features(x_train, y_train, x_test)"
   ]
  },
  {
   "cell_type": "code",
   "execution_count": 7,
   "id": "ad5a7dd0",
   "metadata": {},
   "outputs": [],
   "source": [
    "model = LinearRegression().fit(x_train, y_train) #Fit train data into linear regression model.\n",
    "predictions = model.predict(x_test) "
   ]
  },
  {
   "cell_type": "code",
   "execution_count": 8,
   "id": "88a89067",
   "metadata": {},
   "outputs": [
    {
     "name": "stdout",
     "output_type": "stream",
     "text": [
      "Predictions: \n",
      "\n",
      "PREDICTED HUMIDITY : 88.53053720315155 \t ACTUAL HUMIDITY : 89\n",
      "PREDICTED HUMIDITY : 76.46558417410705 \t ACTUAL HUMIDITY : 76\n",
      "PREDICTED HUMIDITY : 76.55494541776866 \t ACTUAL HUMIDITY : 78\n",
      "PREDICTED HUMIDITY : 88.53053720315155 \t ACTUAL HUMIDITY : 88\n",
      "PREDICTED HUMIDITY : 86.78177186330288 \t ACTUAL HUMIDITY : 86\n",
      "PREDICTED HUMIDITY : 87.29304454507857 \t ACTUAL HUMIDITY : 88\n",
      "PREDICTED HUMIDITY : 79.3930407220633 \t ACTUAL HUMIDITY : 79\n",
      "PREDICTED HUMIDITY : 78.97396179070033 \t ACTUAL HUMIDITY : 79\n",
      "PREDICTED HUMIDITY : 87.65615453322722 \t ACTUAL HUMIDITY : 89\n",
      "\n",
      "R-squared value:  0.9749005484954103\n"
     ]
    }
   ],
   "source": [
    "print(\"Predictions: \\n\")\n",
    "\n",
    "for i in range(len(predictions)): \n",
    "  print('PREDICTED HUMIDITY : '+str(predictions[i])  ,'\\t','ACTUAL HUMIDITY : '+str(y_test[i]))\n",
    "\n",
    "print(\"\\nR-squared value: \", model.score(x_test, y_test)) #Print accumulated data"
   ]
  },
  {
   "cell_type": "code",
   "execution_count": null,
   "id": "c5fb5506",
   "metadata": {},
   "outputs": [],
   "source": []
  }
 ],
 "metadata": {
  "kernelspec": {
   "display_name": "Python 3 (ipykernel)",
   "language": "python",
   "name": "python3"
  },
  "language_info": {
   "codemirror_mode": {
    "name": "ipython",
    "version": 3
   },
   "file_extension": ".py",
   "mimetype": "text/x-python",
   "name": "python",
   "nbconvert_exporter": "python",
   "pygments_lexer": "ipython3",
   "version": "3.9.12"
  }
 },
 "nbformat": 4,
 "nbformat_minor": 5
}
